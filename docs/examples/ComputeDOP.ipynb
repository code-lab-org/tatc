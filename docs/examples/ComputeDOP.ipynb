{
 "cells": [
  {
   "cell_type": "markdown",
   "metadata": {},
   "source": [
    "## Example Dilution of Precision (DOP) Calculations"
   ]
  },
  {
   "cell_type": "markdown",
   "metadata": {},
   "source": [
    "Setup imports and simluation parameters. "
   ]
  },
  {
   "cell_type": "code",
   "execution_count": null,
   "metadata": {},
   "outputs": [],
   "source": [
    "from tatc.schemas import Instrument, Satellite, CircularOrbit, WalkerConstellation, Point\n",
    "from tatc.generation import generate_equally_spaced_points, generate_equally_spaced_cells\n",
    "from tatc.analysis import compute_dop\n",
    "from datetime import datetime, timedelta, timezone\n",
    "import pandas as pd\n",
    "import numpy as np\n",
    "from joblib import Parallel, delayed\n",
    "import matplotlib.pyplot as plt\n",
    "import geopandas as gpd"
   ]
  },
  {
   "cell_type": "markdown",
   "metadata": {},
   "source": [
    "This example uses 1 day with a 10 second time step. The minimum elevation angle from the user for a satellite to be considered in view is set to 5 degrees. "
   ]
  },
  {
   "cell_type": "code",
   "execution_count": null,
   "metadata": {},
   "outputs": [],
   "source": [
    "# Initial conditions\n",
    "start = datetime(2023, 7, 1, 0, tzinfo=timezone.utc)\n",
    "stop = start + timedelta(days=1)\n",
    "total_t = stop - start\n",
    "time_step = timedelta(seconds=10)\n",
    "\n",
    "# Make vector of times at which to take measurements\n",
    "t_vec = pd.Series(\n",
    "    [\n",
    "        start + timedelta(seconds=i)\n",
    "        for i in np.arange(\n",
    "            0,\n",
    "            total_t.total_seconds() + time_step.total_seconds(),\n",
    "            time_step.total_seconds(),\n",
    "        )\n",
    "    ]\n",
    ")\n",
    "\n",
    "# Seed orbit initial conditions\n",
    "raan = 0  # right ascension of ascending node for initial plane\n",
    "alt = 20200e3  # altitude of orbit in meters\n",
    "phasing = 1  # phase angle between planes\n",
    "inc = 55  # inclination of orbit\n",
    "\n",
    "# Define the min elevation angle for the DOP measurements\n",
    "min_el = 5"
   ]
  },
  {
   "cell_type": "markdown",
   "metadata": {},
   "source": [
    "Define a seed satellite and then create a Walker Constellation\n",
    "\n",
    "A GPS-like constellation is a Walker Delta with a 24/6/1 configuration and an inclination of 55deg"
   ]
  },
  {
   "cell_type": "code",
   "execution_count": null,
   "metadata": {},
   "outputs": [],
   "source": [
    "# Create a seed instrument\n",
    "i1 = Instrument(name=\"instrument1\", field_of_regard=180)\n",
    "\n",
    "# Create a seed satellite\n",
    "s1 = Satellite(\n",
    "    name=\"satellite1\",\n",
    "    instruments=[i1],\n",
    "    orbit=CircularOrbit(\n",
    "        altitude=alt,\n",
    "        inclination=inc,\n",
    "        type=\"circular\",\n",
    "        right_ascension_ascending_node=raan,\n",
    "        epoch=start,\n",
    "    ),\n",
    ")\n",
    "\n",
    "# Create a Walker Constellation\n",
    "wc = WalkerConstellation(\n",
    "    name=\"walker1\",\n",
    "    orbit=s1.orbit,\n",
    "    instruments=[i1],\n",
    "    number_planes=6,\n",
    "    number_satellites=24,\n",
    "    configuration=\"delta\",\n",
    "    relative_spacing=phasing,\n",
    ").generate_members()"
   ]
  },
  {
   "cell_type": "markdown",
   "metadata": {},
   "source": [
    "#### Create a grid of ground points at which to make measurements"
   ]
  },
  {
   "cell_type": "code",
   "execution_count": null,
   "metadata": {},
   "outputs": [],
   "source": [
    "# define points on ground to measure DOP\n",
    "pts_df = generate_equally_spaced_points(5000e3)\n",
    "\n",
    "points = pts_df.apply(\n",
    "    lambda r: Point(id=r.point_id, latitude=r.geometry.y, longitude=r.geometry.x),\n",
    "    axis=1,\n",
    ")"
   ]
  },
  {
   "cell_type": "markdown",
   "metadata": {},
   "source": [
    "#### Evaluate the DOP\n",
    "\n",
    "First get the position-dilution of precision (PDOP). The function is slow depending on the size of the time vector and the number of ground points to evaluate, so running in parallel is advised. "
   ]
  },
  {
   "cell_type": "code",
   "execution_count": null,
   "metadata": {},
   "outputs": [],
   "source": [
    "p_dops = Parallel(n_jobs=-1, verbose=1)(\n",
    "    delayed(compute_dop)(t_vec, i, wc, min_el, \"pdop\") for i in points\n",
    ")"
   ]
  },
  {
   "cell_type": "markdown",
   "metadata": {},
   "source": [
    "The get_dop function can also calculate the GDOP, HDOP, VDOP, and TDOP. \n",
    "\n",
    "- Geomtric DOP (GDOP) is related to errors in both position and time. GDOP is the root sum of squares of the PDOP and TDOP\n",
    "- Position DOP (PDOP) is related to position error in the users horizontal and vertical planes\n",
    "- Horizontal DOP (HDOP) is related to position error in the horizontal plane of the user (i.e. latitude and longitude)\n",
    "- Vertical DOP (VDOP) is related to position error in the vertical plane of the user (i.e. altitude)\n",
    "- Time DOP (TDOP) is related to time error. It is the root of the squares of GDOP minues PDOP."
   ]
  },
  {
   "cell_type": "code",
   "execution_count": null,
   "metadata": {},
   "outputs": [],
   "source": [
    "# Examples of the different DOP methods:\n",
    "g_dop = compute_dop(t_vec, points[0], wc, min_el, \"gdop\")\n",
    "\n",
    "h_dop = compute_dop(t_vec, points[0], wc, min_el, \"hdop\")\n",
    "\n",
    "v_dop = compute_dop(t_vec, points[0], wc, min_el, \"vdop\")\n",
    "\n",
    "t_dop = compute_dop(t_vec, points[0], wc, min_el, \"tdop\")"
   ]
  },
  {
   "cell_type": "markdown",
   "metadata": {},
   "source": [
    "### Time Plots\n",
    "The DOP values can be plotted vs time for the duration of the simluation"
   ]
  },
  {
   "cell_type": "code",
   "execution_count": null,
   "metadata": {},
   "outputs": [],
   "source": [
    "x = t_vec\n",
    "plt.figure(figsize=(10, 3))\n",
    "plt.plot(x, g_dop[\"dop\"], label=\"GDOP\")\n",
    "plt.plot(x, p_dops[0][\"dop\"], label=\"PDOP\")\n",
    "plt.plot(x, h_dop[\"dop\"], label=\"HDOP\")\n",
    "plt.plot(x, v_dop[\"dop\"], label=\"VDOP\")\n",
    "plt.plot(x, t_dop[\"dop\"], label=\"TDOP\")\n",
    "plt.legend(loc=\"upper right\")\n",
    "plt.title(\"DOP at Point -67deg lat, -157deg lon\")\n",
    "plt.xlabel(\"Time\")\n",
    "plt.xticks(rotation=45)\n",
    "plt.grid()\n",
    "plt.show()"
   ]
  },
  {
   "cell_type": "markdown",
   "metadata": {},
   "source": [
    "#### Map plots\n",
    "Instead of DOP vs Time, can take the mean DOP and plot on a map showing the ground point locations."
   ]
  },
  {
   "cell_type": "code",
   "execution_count": null,
   "metadata": {},
   "outputs": [],
   "source": [
    "# load a shapefile containing land from https://www.naturalearthdata.com/downloads/110m-physical-vectors/\n",
    "worldmap = gpd.read_file(\"ne_110m_land.zip\")\n",
    "\n",
    "# Make a copy of the points geodataframe\n",
    "pts_df_dop = pts_df.copy()\n",
    "\n",
    "# Add mean PDOP values for each point to the geodataframe\n",
    "pts_df_dop[\"PDOP\"] = [np.mean(p_dops[i][\"dop\"]) for i in range(len(p_dops))]\n",
    "\n",
    "# Make a plot with circles\n",
    "fig, ax = plt.subplots(figsize=(8, 5))\n",
    "\n",
    "pts_df_dop.plot(\n",
    "    ax=ax,\n",
    "    column=\"PDOP\",\n",
    "    cmap=\"viridis\",\n",
    "    legend=True,\n",
    "    legend_kwds={\"label\": \"Mean PDOP\", \"orientation\": \"horizontal\"},\n",
    ")\n",
    "worldmap.boundary.plot(ax=ax, color=\"black\", lw=0.5)\n",
    "plt.xlim([-180, 180])\n",
    "plt.ylim([-90, 90])"
   ]
  },
  {
   "cell_type": "code",
   "execution_count": null,
   "metadata": {},
   "outputs": [],
   "source": [
    "# Make a plot with shaded cells\n",
    "cells_df = generate_equally_spaced_cells(5000e3)\n",
    "cells_df[\"PDOP\"] = [np.mean(p_dops[i][\"dop\"]) for i in range(len(p_dops))]\n",
    "\n",
    "fig, ax = plt.subplots(figsize=(8, 5))\n",
    "cells_df.plot(\n",
    "    ax=ax,\n",
    "    column=\"PDOP\",\n",
    "    cmap=\"viridis\",\n",
    "    alpha=0.5,\n",
    "    edgecolor=\"k\",\n",
    "    legend=True,\n",
    "    legend_kwds={\"label\": \"Mean PDOP\", \"orientation\": \"horizontal\"},\n",
    ")\n",
    "worldmap.boundary.plot(ax=ax, color=\"black\", lw=0.5)\n",
    "plt.xlim([-180, 180])\n",
    "plt.ylim([-90, 90])"
   ]
  },
  {
   "cell_type": "markdown",
   "metadata": {},
   "source": [
    "### Verify the the results"
   ]
  },
  {
   "cell_type": "markdown",
   "metadata": {},
   "source": [
    "Using equivalent initial conditions and simulation parameters, AGI's STK generates the same results as this program to 2 decimal places.\n",
    "\n",
    "The shape of the DOP vs time curve also matches.\n",
    "\n",
    "Comparisons were also carried out at different latitudes and with different constellation parameters."
   ]
  },
  {
   "cell_type": "code",
   "execution_count": null,
   "metadata": {},
   "outputs": [],
   "source": [
    "# Make a point located at 0deg lat, 0deg lon\n",
    "# Calculate PDOP value at 0deg lat 0 deg lon from 05 July 2023 at 1600 with 60 deg time step and Walker Delta 24/6/1 constellation.\n",
    "point_0_0 = Point(id=0, latitude=0, longitude=0)\n",
    "point_0_0_df = gpd.GeoDataFrame(\n",
    "    [point_0_0.id],\n",
    "    geometry=gpd.points_from_xy([point_0_0.longitude], [point_0_0.latitude]),\n",
    "    crs=\"EPSG:4326\",\n",
    "    columns=[\"point_id\"],\n",
    ")\n",
    "pdop_0_0 = compute_dop(t_vec, point_0_0, wc, min_el, \"pdop\")\n",
    "print(point_0_0_df.geometry)\n",
    "print(\"Mean PDOP: \", np.mean(pdop_0_0[\"dop\"]))\n",
    "print(\"Max PDOP: \", np.max(pdop_0_0[\"dop\"]))\n",
    "print(\"Min PDOP: \", np.min(pdop_0_0[\"dop\"]))"
   ]
  },
  {
   "cell_type": "markdown",
   "metadata": {},
   "source": [
    "Results from get_dop() function: \n",
    "- Mean PDOP: 1.74483\n",
    "- Max PDOP: 1.95012\n",
    "- Min PDOP: 1.4214\n",
    "\n",
    "From equivalent STK simulation:\n",
    "- Mean PDOP: 1.74708\n",
    "- Max PDOP: 1.94902\n",
    "- Min PDOP: 1.42266"
   ]
  },
  {
   "cell_type": "markdown",
   "metadata": {},
   "source": [
    "#### TATC Plot of PDOP over time at 0 deg Lat / 0 deg Lon"
   ]
  },
  {
   "cell_type": "code",
   "execution_count": null,
   "metadata": {},
   "outputs": [],
   "source": [
    "%matplotlib inline\n",
    "x = t_vec\n",
    "y = pdop_0_0[\"dop\"]\n",
    "plt.figure(figsize=(10, 3))\n",
    "plt.plot(x, y)\n",
    "plt.title(\"Position DOP at Point 0deg lat, 0deg lon\")\n",
    "plt.xlabel(\"Time\")\n",
    "plt.ylabel(\"PDOP\")\n",
    "plt.xticks(rotation=45)\n",
    "plt.grid()\n",
    "plt.show()"
   ]
  },
  {
   "cell_type": "markdown",
   "metadata": {},
   "source": [
    "#### STK Plot of PDOP over time for 0 deg lat / 0 deg lon"
   ]
  },
  {
   "attachments": {
    "Coverage for Facility1 FOM Value.png": {
     "image/png": "[encoded data removed]"
    }
   },
   "cell_type": "markdown",
   "metadata": {},
   "source": [
    "![Coverage for Facility1 FOM Value.png](<attachment:Coverage for Facility1 FOM Value.png>)"
   ]
  }
 ],
 "metadata": {
  "kernelspec": {
   "display_name": "Py39_tatc_mac",
   "language": "python",
   "name": "python3"
  },
  "language_info": {
   "codemirror_mode": {
    "name": "ipython",
    "version": 3
   },
   "file_extension": ".py",
   "mimetype": "text/x-python",
   "name": "python",
   "nbconvert_exporter": "python",
   "pygments_lexer": "ipython3",
   "version": "3.10.13"
  },
  "orig_nbformat": 4
 },
 "nbformat": 4,
 "nbformat_minor": 2
}
